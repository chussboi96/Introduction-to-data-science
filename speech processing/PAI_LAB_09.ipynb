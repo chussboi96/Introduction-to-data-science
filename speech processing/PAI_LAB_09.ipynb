{
  "nbformat": 4,
  "nbformat_minor": 0,
  "metadata": {
    "colab": {
      "provenance": [],
      "collapsed_sections": []
    },
    "kernelspec": {
      "name": "python3",
      "display_name": "Python 3"
    },
    "language_info": {
      "name": "python"
    }
  },
  "cells": [
    {
      "cell_type": "code",
      "source": [
        "# YOUR NAME -\n",
        "# YOUR ID - "
      ],
      "metadata": {
        "id": "tm0WnKKio440"
      },
      "execution_count": null,
      "outputs": []
    },
    {
      "cell_type": "markdown",
      "source": [
        "# Silence Trimmer — Speech Processing"
      ],
      "metadata": {
        "id": "LSw6GM-Vkava"
      }
    },
    {
      "cell_type": "markdown",
      "source": [
        "Consider a case when you have to perform a series of simple operations on some audio dataset — trimming silence, calculating their average duration, and then making them all of the equal length same as the average — trimming the bigger ones, and padding the smaller ones."
      ],
      "metadata": {
        "id": "dlp_c_6qkf_6"
      }
    },
    {
      "cell_type": "code",
      "execution_count": null,
      "metadata": {
        "id": "TQ-ejwFjZH2y"
      },
      "outputs": [],
      "source": [
        "import librosa\n",
        "import soundfile"
      ]
    },
    {
      "cell_type": "markdown",
      "source": [
        "This line loads wave data."
      ],
      "metadata": {
        "id": "SCE3SNF_mZOL"
      }
    },
    {
      "cell_type": "code",
      "source": [
        "waveform, sample_rate = librosa.load(\"/content/speech.wav\")\n",
        "initial_duration = librosa.get_duration(waveform)"
      ],
      "metadata": {
        "id": "WN8LOaKnmbHh"
      },
      "execution_count": null,
      "outputs": []
    },
    {
      "cell_type": "markdown",
      "source": [
        "This line simply trims silence in the waveform data. The top_db parameter is important here. It means any sound below this decibel will be considered as silence and so will be trimmed. Meaning — the lower the value, most likely the lower the duration of the resulting audio. The function returns a tuple of actual data and length. We just need the data and so the [0] in the end."
      ],
      "metadata": {
        "id": "gzYtoHwOmILb"
      }
    },
    {
      "cell_type": "code",
      "source": [
        "from re import X\n",
        "w = librosa.effects.trim(waveform, top_db=10)\n",
        "print(type(w))\n",
        "print(w)\n",
        "# final_duration = librosa.get_duration(w)\n",
        "# print(w)\n",
        "\n",
        "x = librosa.effects.trim(waveform, top_db=10)[0]\n",
        "final_duration = librosa.get_duration(x)\n",
        "print(final_duration)"
      ],
      "metadata": {
        "colab": {
          "base_uri": "https://localhost:8080/"
        },
        "id": "S7iEFo5kWCfc",
        "outputId": "75a85cbb-a2c5-4789-8525-94db2ae828b9"
      },
      "execution_count": null,
      "outputs": [
        {
          "output_type": "stream",
          "name": "stdout",
          "text": [
            "<class 'tuple'>\n",
            "(array([0.038814  , 0.03896398, 0.03880886, ..., 0.00518508, 0.00657136,\n",
            "       0.0083086 ], dtype=float32), array([    0, 94208]))\n",
            "4.272471655328798\n"
          ]
        }
      ]
    },
    {
      "cell_type": "code",
      "source": [
        "waveform = librosa.effects.trim(waveform, top_db=10)[0]\n",
        "final_duration = librosa.get_duration(waveform)"
      ],
      "metadata": {
        "id": "YMYuPEdakmLT"
      },
      "execution_count": null,
      "outputs": []
    },
    {
      "cell_type": "markdown",
      "source": [
        "This line is saving the audio."
      ],
      "metadata": {
        "id": "0eAlwvC9mNwz"
      }
    },
    {
      "cell_type": "code",
      "source": [
        "soundfile.write(\"speech-trimmed.wav\", waveform, sample_rate)\n",
        "print(f\"Initial duration: {initial_duration}. Final duration: {final_duration}\")"
      ],
      "metadata": {
        "colab": {
          "base_uri": "https://localhost:8080/"
        },
        "id": "MwQbx65NmMzO",
        "outputId": "05c69517-540a-4054-d7f1-fc74a214671f"
      },
      "execution_count": null,
      "outputs": [
        {
          "output_type": "stream",
          "name": "stdout",
          "text": [
            "Initial duration: 5.943401360544217. Final duration: 4.272471655328798\n"
          ]
        }
      ]
    },
    {
      "cell_type": "markdown",
      "source": [
        "Task 01\n",
        "\n",
        "For this file, set different top_db like 10, 20, 25 and notice the difference in the result"
      ],
      "metadata": {
        "id": "SPeLO9jQms-r"
      }
    },
    {
      "cell_type": "code",
      "source": [
        "# YOUR CODE HERE\n"
      ],
      "metadata": {
        "id": "bc85pvpOmuUq"
      },
      "execution_count": null,
      "outputs": []
    },
    {
      "cell_type": "markdown",
      "source": [
        "Task 02\n",
        "\n",
        "Plot the waveform using matplotlib before and after trimming with 3 different values for top_db"
      ],
      "metadata": {
        "id": "1FiT-Ccbmxiy"
      }
    },
    {
      "cell_type": "code",
      "source": [
        "# YOUR CODE HERE\n"
      ],
      "metadata": {
        "id": "naIYM8YTm3L-"
      },
      "execution_count": null,
      "outputs": []
    },
    {
      "cell_type": "markdown",
      "source": [
        "Task 03\n",
        "\n",
        "Write a code to Play before and after trimming and verify for all three values for top_db"
      ],
      "metadata": {
        "id": "jp9yY5lBm7Y3"
      }
    },
    {
      "cell_type": "code",
      "source": [
        "# YOUR CODE HERE\n"
      ],
      "metadata": {
        "id": "0B4kkXCkm9Jf"
      },
      "execution_count": null,
      "outputs": []
    },
    {
      "cell_type": "markdown",
      "source": [
        "Task 04\n",
        "\n",
        "Extract MFCC features of an 'speech-trimmed.wav' audio file with top_db=10"
      ],
      "metadata": {
        "id": "jjRBRfFxr9Q9"
      }
    },
    {
      "cell_type": "code",
      "source": [
        "# YOUR CODE HERE\n"
      ],
      "metadata": {
        "id": "TsH2wySHsiYe"
      },
      "execution_count": null,
      "outputs": []
    },
    {
      "cell_type": "markdown",
      "source": [
        "Happy Coding :D"
      ],
      "metadata": {
        "id": "KlfqNOaIpPrg"
      }
    }
  ]
}