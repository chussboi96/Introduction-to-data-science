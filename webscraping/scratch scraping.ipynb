{
 "cells": [
  {
   "cell_type": "markdown",
   "metadata": {},
   "source": [
    "# Web Scraping"
   ]
  },
  {
   "cell_type": "markdown",
   "metadata": {},
   "source": [
    "Install Libraries"
   ]
  },
  {
   "cell_type": "code",
   "execution_count": 2,
   "metadata": {},
   "outputs": [],
   "source": [
    "# # uncomment to install\n",
    "# !pip install bs4\n",
    "# !pip install selenium\n",
    "# !pip install webdriver-manager"
   ]
  },
  {
   "cell_type": "markdown",
   "metadata": {},
   "source": [
    "Import Libraries"
   ]
  },
  {
   "cell_type": "code",
   "execution_count": 3,
   "metadata": {},
   "outputs": [],
   "source": [
    "#import libraries\n",
    "import time\n",
    "import pandas as pd\n",
    "from selenium import webdriver\n",
    "from selenium.webdriver.chrome.options import Options\n",
    "from selenium.webdriver.common.keys import Keys\n",
    "from webdriver_manager.chrome import ChromeDriverManager\n",
    "from selenium.webdriver.common.by import By\n",
    "from selenium.common.exceptions import NoSuchElementException\n",
    "\n"
   ]
  },
  {
   "cell_type": "markdown",
   "metadata": {},
   "source": [
    "#### Terms"
   ]
  },
  {
   "cell_type": "markdown",
   "metadata": {},
   "source": [
    "f string is a new way to format strings in python (https://realpython.com/python-f-strings/)"
   ]
  },
  {
   "cell_type": "markdown",
   "metadata": {},
   "source": [
    "what is parsing?\n",
    "parsing is the process of analyzing a string of symbols according to the rules of a formal grammar"
   ]
  },
  {
   "cell_type": "markdown",
   "metadata": {},
   "source": [
    "\n",
    "what are html tags?\n",
    " html tags are used to define the structure of a webpage\n",
    "\n",
    "\n"
   ]
  },
  {
   "cell_type": "markdown",
   "metadata": {},
   "source": [
    "what's class?\n",
    "class is a group of objects that have similar properties"
   ]
  },
  {
   "cell_type": "markdown",
   "metadata": {},
   "source": [
    "what's id?\n",
    "id is a unique identifier for an element"
   ]
  },
  {
   "cell_type": "markdown",
   "metadata": {},
   "source": [
    "what's xpath?\n",
    "xpath is a query language for selecting nodes from an XML document"
   ]
  },
  {
   "cell_type": "markdown",
   "metadata": {},
   "source": [
    "what's full xpath?\n",
    "full xpath is the full path to an element\n",
    "\n"
   ]
  },
  {
   "cell_type": "markdown",
   "metadata": {},
   "source": [
    "when do we use full xpath?\n",
    "full xpath is used when we want to access the element which is not in the same class or id\n",
    "for example if we want to access the element which is in the same class but not in the same id\n",
    "then we use full xpath"
   ]
  },
  {
   "cell_type": "markdown",
   "metadata": {},
   "source": [
    "when do we use partial xpath? \n",
    "partial xpath is used when we want to access the element which is in the same class or id\n",
    "for example if we want to access the element which is in the same class and in the same id\n",
    "then we use partial xpath\n"
   ]
  },
  {
   "cell_type": "markdown",
   "metadata": {},
   "source": [
    "what's relative xpath?\n",
    "relative xpath is the path to an element relative to another element\n"
   ]
  },
  {
   "cell_type": "markdown",
   "metadata": {},
   "source": [
    "lxml is a python library for parsing html and xml documents\n"
   ]
  },
  {
   "cell_type": "markdown",
   "metadata": {},
   "source": [
    "\n",
    "Requests is a python library for making http requests\n"
   ]
  },
  {
   "cell_type": "markdown",
   "metadata": {},
   "source": [
    "Beautiful soup is a python library for parsing html documents"
   ]
  },
  {
   "cell_type": "markdown",
   "metadata": {},
   "source": [
    "\n",
    "Selenium is a python library for automating web browsers. You can use selenium to scrape data from a website"
   ]
  },
  {
   "cell_type": "markdown",
   "metadata": {},
   "source": [
    "#### Requests"
   ]
  },
  {
   "cell_type": "code",
   "execution_count": 4,
   "metadata": {},
   "outputs": [],
   "source": [
    "import requests\n",
    "example = requests.get(\"http://www.fsf.org/\") #free software foundation website link\n",
    "# example #example is a response object\n",
    "html = example.text\n",
    "# html #html of the page"
   ]
  },
  {
   "cell_type": "code",
   "execution_count": 6,
   "metadata": {},
   "outputs": [],
   "source": [
    "# html"
   ]
  },
  {
   "cell_type": "markdown",
   "metadata": {},
   "source": [
    "#### Beautiful Soup"
   ]
  },
  {
   "cell_type": "code",
   "execution_count": 8,
   "metadata": {},
   "outputs": [],
   "source": [
    "from bs4 import BeautifulSoup\n",
    "soup = BeautifulSoup(html)\n",
    "# soup #soup is a beautiful soup object\n",
    "print(soup.prettify()) #prettify() method is used to display the html in a structured tree format"
   ]
  },
  {
   "cell_type": "code",
   "execution_count": 9,
   "metadata": {},
   "outputs": [
    {
     "data": {
      "text/plain": [
       "<Element html at 0x291ed2e85c0>"
      ]
     },
     "execution_count": 9,
     "metadata": {},
     "output_type": "execute_result"
    }
   ],
   "source": [
    "from lxml import etree #lxml is a python library for parsing xml and html documents\n",
    "\n",
    "soup = BeautifulSoup(example.content, \"html.parser\")\n",
    "soup\n",
    "e = etree.HTML(str(soup))\n",
    "e #e is a lxml.etree._Element object"
   ]
  },
  {
   "cell_type": "code",
   "execution_count": 10,
   "metadata": {},
   "outputs": [
    {
     "name": "stdout",
     "output_type": "stream",
     "text": [
      "Defective by Design is a grassroots campaign to eliminate Digital Restrictions Management (DRM) in media and devices.\n",
      "Read the Email Self-Defense Guide to get started with email encryption, a skill necessary to combat bulk surveillance.\n",
      "The End Software Patents initiative fights to abolish software patents around the world.\n",
      "Join us in calling for a Web that respects our freedom by being compatible with free software and stand up against nonfree JavaScript.\n",
      "The Free Software Directory is a collaborative catalog of computer programs and apps that are fully free.\n",
      "The GNU operating system is a continuously evolving, complete operating system made entirely of free software.\n",
      "LibrePlanet is our global network of free software activism, including events like our \n",
      "The Licensing and Compliance Lab is the preeminent resource for public education on licensing best practices and enforcing the GPL.\n",
      "The \"Respects Your Freedom\" program certifies retailers who sell hardware in a manner that respects the rights of their users.\n"
     ]
    }
   ],
   "source": [
    "for i in e.xpath('//ul[@class=\"initiatives-list\"]/li/a/div/p'):\n",
    "    print(i.text)"
   ]
  },
  {
   "cell_type": "markdown",
   "metadata": {},
   "source": [
    "### Scraping Wikipedia"
   ]
  },
  {
   "cell_type": "code",
   "execution_count": 11,
   "metadata": {},
   "outputs": [
    {
     "name": "stdout",
     "output_type": "stream",
     "text": [
      "From the 1940s to 1985, \n"
     ]
    }
   ],
   "source": [
    "import requests\n",
    "from bs4 import BeautifulSoup\n",
    "from lxml import etree\n",
    "\n",
    "txt = requests.get('https://en.wikipedia.org/wiki/Dream')\n",
    "\n",
    "text = txt.text\n",
    "text = BeautifulSoup(text)\n",
    "text.prettify #this gives html\n",
    "\n",
    "fin_text = BeautifulSoup(txt.content, \"html.parser\")\n",
    "fin_text = etree.HTML(str(fin_text))\n",
    "fin_text #gives weird value\n",
    "\n",
    "for i in fin_text.xpath('//*[@id=\"mw-content-text\"]/div[1]/p[8]'):\n",
    "    print(i.text)\n"
   ]
  },
  {
   "cell_type": "markdown",
   "metadata": {},
   "source": [
    "# Selenium"
   ]
  },
  {
   "cell_type": "code",
   "execution_count": 13,
   "metadata": {},
   "outputs": [
    {
     "name": "stderr",
     "output_type": "stream",
     "text": [
      "C:\\Users\\Latitude\\AppData\\Local\\Temp\\ipykernel_4120\\3052980088.py:2: DeprecationWarning: executable_path has been deprecated, please pass in a Service object\n",
      "  driver = webdriver.Chrome(executable_path=r\"C:\\Users\\Latitude\\Downloads\\chromedriver.exe\")\n"
     ]
    }
   ],
   "source": [
    "options = Options() #options for chrome\n",
    "driver = webdriver.Chrome(executable_path=r\"C:\\Users\\Latitude\\Downloads\\chromedriver.exe\")\n",
    "# options.add_argument(\"--headless\") #means it will run in background\n",
    "\n",
    "#other options that can be used\n",
    "# options.add_argument(\"--window-size=1920x1080\")\n",
    "# options.add_argument(\"--disable-gpu\")\n",
    "# options.add_argument(\"--disable-extensions\")\n",
    "# options.add_argument(\"--no-sandbox\")\n",
    "# options.add_argument(\"--disable-dev-shm-usage\")\n",
    "# options.add_argument(\"--start-maximized\")\n",
    "# options.add_argument(\"--disable-notifications\")\n",
    "# options.add_argument(\"--disable-infobars\")\n",
    "# options.add_argument(\"--disable-browser-side-navigation\")\n",
    "# options.add_argument(\"--disable-features=VizDisplayCompositor\")\n",
    "# options.add_argument(\"--disable-features=NetworkService\")\n",
    "# options.add_argument(\"--disable-features=TranslateUI\")\n",
    "# options.add_argument(\"--disable-features=Translate\")\n",
    "# options.add_argument(\"--disable-features=AutofillServerCommunication\")\n",
    "# options.add_argument(\"--disable-features=AutofillEnableAccountWalletStorage\")\n",
    "\n",
    "\n",
    "# driver = webdriver.Chrome(ChromeDriverManager().install(), options=options)\n",
    "\n",
    "driver.get('https://maps.google.com')\n",
    "\n",
    "search_term = 'FAST NUCES ISLAMABAD'\n",
    "driver.find_element(\"xpath\",'//*[@id=\"searchboxinput\"]').send_keys(search_term + Keys.RETURN)\n",
    "time.sleep(7)"
   ]
  },
  {
   "cell_type": "code",
   "execution_count": 14,
   "metadata": {},
   "outputs": [],
   "source": [
    "driver.close() #close the browser"
   ]
  },
  {
   "cell_type": "markdown",
   "metadata": {},
   "source": [
    "### Scraping Daraz Using Selenium"
   ]
  },
  {
   "cell_type": "code",
   "execution_count": 15,
   "metadata": {},
   "outputs": [
    {
     "name": "stdout",
     "output_type": "stream",
     "text": [
      "Modified search term: phones\n"
     ]
    }
   ],
   "source": [
    "ratings = [3, 4]\n",
    "pricing = [(300,500), (1000,1500)]\n",
    "\n",
    "query = input('Enter search term: ').replace(' ', '%20')\n",
    "print(f'Modified search term: {query}')"
   ]
  },
  {
   "cell_type": "code",
   "execution_count": 17,
   "metadata": {},
   "outputs": [],
   "source": [
    "options = Options()\n",
    "# options.add_argument(\"--headless\")\n",
    "driver = webdriver.Chrome(ChromeDriverManager().install(), options=options)\n",
    "\n",
    "names = []\n",
    "mall = []\n",
    "prce = []\n",
    "loc = []\n",
    "revw = []\n",
    "#for i in pricing:\n",
    "for j in ratings:\n",
    "    driver.get(f'https://www.daraz.pk/catalog/?from=input&q={query}&rating={j}')\n",
    "\n",
    "    for product in driver.find_elements(By.CLASS_NAME,'gridItem--Yd0sa'):\n",
    "        name = product.find_element(By.CLASS_NAME,'title--wFj93').text\n",
    "        \n",
    "        try:\n",
    "            price = int(product.find_element(By.CLASS_NAME,'price--NVB62').text[3:].replace(',',''))\n",
    "        except ValueError:\n",
    "            price = 0\n",
    "\n",
    "        try:\n",
    "            rateAndLoc = product.find_element(By.CLASS_NAME,'rateAndLoc--XWchq')\n",
    "            location = rateAndLoc.find_element(By.CLASS_NAME,'location--eh0Ro').text\n",
    "        except NoSuchElementException:\n",
    "            location = 'Not Available'\n",
    "\n",
    "        loc.append(location)\n",
    "        prce.append(price)\n",
    "        names.append(name)\n",
    "driver.close()\n",
    "            \n",
    "for i in range(len(names)):\n",
    "    print(f'Name:, {names[i]}, Price:, {prce[i]}, Location:, {loc[i]}')"
   ]
  },
  {
   "cell_type": "code",
   "execution_count": 18,
   "metadata": {},
   "outputs": [
    {
     "data": {
      "text/html": [
       "<div>\n",
       "<style scoped>\n",
       "    .dataframe tbody tr th:only-of-type {\n",
       "        vertical-align: middle;\n",
       "    }\n",
       "\n",
       "    .dataframe tbody tr th {\n",
       "        vertical-align: top;\n",
       "    }\n",
       "\n",
       "    .dataframe thead th {\n",
       "        text-align: right;\n",
       "    }\n",
       "</style>\n",
       "<table border=\"1\" class=\"dataframe\">\n",
       "  <thead>\n",
       "    <tr style=\"text-align: right;\">\n",
       "      <th></th>\n",
       "      <th>Name</th>\n",
       "      <th>Price</th>\n",
       "      <th>Location</th>\n",
       "    </tr>\n",
       "  </thead>\n",
       "  <tbody>\n",
       "    <tr>\n",
       "      <th>0</th>\n",
       "      <td>Samsung Galaxy A32 - Display 6.4 - Multi Quad ...</td>\n",
       "      <td>50999</td>\n",
       "      <td>Pakistan</td>\n",
       "    </tr>\n",
       "    <tr>\n",
       "      <th>1</th>\n",
       "      <td>Samsung Galaxy A23 6.6 Inches Display 6GB 128GB</td>\n",
       "      <td>48999</td>\n",
       "      <td>Pakistan</td>\n",
       "    </tr>\n",
       "    <tr>\n",
       "      <th>2</th>\n",
       "      <td>NOKIA 105 SIMBA (2022) WIRELESS FM DUAL SIM</td>\n",
       "      <td>3920</td>\n",
       "      <td>Pakistan</td>\n",
       "    </tr>\n",
       "    <tr>\n",
       "      <th>3</th>\n",
       "      <td>Nokia 106 Classic Mobile Phone - 1.8\" Display ...</td>\n",
       "      <td>4099</td>\n",
       "      <td>Pakistan</td>\n",
       "    </tr>\n",
       "    <tr>\n",
       "      <th>4</th>\n",
       "      <td>Nokia 105 (Simba) 2022 Edition Dual Sim 1 Year...</td>\n",
       "      <td>3915</td>\n",
       "      <td>Pakistan</td>\n",
       "    </tr>\n",
       "    <tr>\n",
       "      <th>...</th>\n",
       "      <td>...</td>\n",
       "      <td>...</td>\n",
       "      <td>...</td>\n",
       "    </tr>\n",
       "    <tr>\n",
       "      <th>56</th>\n",
       "      <td>Nokia 3310 Dual SIM Mobile Phone- 2.4 inch QVG...</td>\n",
       "      <td>10000</td>\n",
       "      <td>Pakistan</td>\n",
       "    </tr>\n",
       "    <tr>\n",
       "      <th>57</th>\n",
       "      <td>Samsung Galaxy A32 - RAM 6GB - ROM 128 GB - Di...</td>\n",
       "      <td>50999</td>\n",
       "      <td>Pakistan</td>\n",
       "    </tr>\n",
       "    <tr>\n",
       "      <th>58</th>\n",
       "      <td>Nokia 105 (Simba) 2022 Edition Dual Sim 1 Year...</td>\n",
       "      <td>3940</td>\n",
       "      <td>Pakistan</td>\n",
       "    </tr>\n",
       "    <tr>\n",
       "      <th>59</th>\n",
       "      <td>Nokia 106 2018 - 1.8 inch - Dual Sim - Dark Gr...</td>\n",
       "      <td>3910</td>\n",
       "      <td>Pakistan</td>\n",
       "    </tr>\n",
       "    <tr>\n",
       "      <th>60</th>\n",
       "      <td>Nokia 110-2021-Local Mobile-Made In Vietnam Fi...</td>\n",
       "      <td>3249</td>\n",
       "      <td>Pakistan</td>\n",
       "    </tr>\n",
       "  </tbody>\n",
       "</table>\n",
       "<p>61 rows × 3 columns</p>\n",
       "</div>"
      ],
      "text/plain": [
       "                                                 Name  Price  Location\n",
       "0   Samsung Galaxy A32 - Display 6.4 - Multi Quad ...  50999  Pakistan\n",
       "1     Samsung Galaxy A23 6.6 Inches Display 6GB 128GB  48999  Pakistan\n",
       "2         NOKIA 105 SIMBA (2022) WIRELESS FM DUAL SIM   3920  Pakistan\n",
       "3   Nokia 106 Classic Mobile Phone - 1.8\" Display ...   4099  Pakistan\n",
       "4   Nokia 105 (Simba) 2022 Edition Dual Sim 1 Year...   3915  Pakistan\n",
       "..                                                ...    ...       ...\n",
       "56  Nokia 3310 Dual SIM Mobile Phone- 2.4 inch QVG...  10000  Pakistan\n",
       "57  Samsung Galaxy A32 - RAM 6GB - ROM 128 GB - Di...  50999  Pakistan\n",
       "58  Nokia 105 (Simba) 2022 Edition Dual Sim 1 Year...   3940  Pakistan\n",
       "59  Nokia 106 2018 - 1.8 inch - Dual Sim - Dark Gr...   3910  Pakistan\n",
       "60  Nokia 110-2021-Local Mobile-Made In Vietnam Fi...   3249  Pakistan\n",
       "\n",
       "[61 rows x 3 columns]"
      ]
     },
     "execution_count": 18,
     "metadata": {},
     "output_type": "execute_result"
    }
   ],
   "source": [
    "df = pd.DataFrame({'Name':names, 'Price':prce, 'Location':loc})\n",
    "df"
   ]
  },
  {
   "cell_type": "code",
   "execution_count": null,
   "metadata": {},
   "outputs": [],
   "source": []
  },
  {
   "cell_type": "markdown",
   "metadata": {},
   "source": [
    "### Pagination"
   ]
  },
  {
   "cell_type": "code",
   "execution_count": 20,
   "metadata": {},
   "outputs": [],
   "source": [
    "options = Options()\n",
    "# options.add_argument(\"--headless\")\n",
    "driver = webdriver.Chrome(ChromeDriverManager().install(), options=options)\n",
    "\n",
    "names = []\n",
    "driver.get(f'https://www.daraz.pk/catalog/?from=input&q={query}')\n",
    "for i in range(1, 11):\n",
    "    for product in driver.find_elements(By.CLASS_NAME,'gridItem--Yd0sa'):\n",
    "        try:\n",
    "            name = product.find_element(By.CLASS_NAME,'title--wFj93').text\n",
    "            names.append(name)\n",
    "        except:\n",
    "            # Name append not found\n",
    "            names.append(\"Not found\")\n",
    "    time.sleep(2)           \n",
    "    driver.find_element(By.XPATH,\"/html[1]/body[1]/div[3]/div[1]/div[2]/div[1]/div[1]/div[1]/div[3]/div[1]/ul[1]/li[9]/a[1]\").click\n",
    "driver.close()\n",
    "            \n",
    "for i in range(len(names)):\n",
    "    print(f'Name:, {names[i]}')"
   ]
  },
  {
   "cell_type": "code",
   "execution_count": 38,
   "metadata": {},
   "outputs": [
    {
     "data": {
      "text/html": [
       "<div>\n",
       "<style scoped>\n",
       "    .dataframe tbody tr th:only-of-type {\n",
       "        vertical-align: middle;\n",
       "    }\n",
       "\n",
       "    .dataframe tbody tr th {\n",
       "        vertical-align: top;\n",
       "    }\n",
       "\n",
       "    .dataframe thead th {\n",
       "        text-align: right;\n",
       "    }\n",
       "</style>\n",
       "<table border=\"1\" class=\"dataframe\">\n",
       "  <thead>\n",
       "    <tr style=\"text-align: right;\">\n",
       "      <th></th>\n",
       "      <th>Name</th>\n",
       "    </tr>\n",
       "  </thead>\n",
       "  <tbody>\n",
       "    <tr>\n",
       "      <th>0</th>\n",
       "      <td>Samsung Galaxy A32 - Display 6.4 - Multi Quad ...</td>\n",
       "    </tr>\n",
       "    <tr>\n",
       "      <th>1</th>\n",
       "      <td>Samsung Galaxy A23 6.6 Inches Display 6GB 128GB</td>\n",
       "    </tr>\n",
       "    <tr>\n",
       "      <th>2</th>\n",
       "      <td>Nokia 105-2019-Local Mobile-Made In Vietnam Fi...</td>\n",
       "    </tr>\n",
       "    <tr>\n",
       "      <th>3</th>\n",
       "      <td>itel Muzik 400 2.4 ich screen</td>\n",
       "    </tr>\n",
       "    <tr>\n",
       "      <th>4</th>\n",
       "      <td>Nokia 106 - 1.8\" Display - Dual Sim (Pack of 2...</td>\n",
       "    </tr>\n",
       "    <tr>\n",
       "      <th>...</th>\n",
       "      <td>...</td>\n",
       "    </tr>\n",
       "    <tr>\n",
       "      <th>395</th>\n",
       "      <td>Itel Power 700 Core 2.8 Inch Dual Sim 1 Year W...</td>\n",
       "    </tr>\n",
       "    <tr>\n",
       "      <th>396</th>\n",
       "      <td>Nokia 105 2019 1.7 Inch Display 2000 Contact 5...</td>\n",
       "    </tr>\n",
       "    <tr>\n",
       "      <th>397</th>\n",
       "      <td>Nokia 110 4G - 1.8 Inches - 1020 mAh Battery -...</td>\n",
       "    </tr>\n",
       "    <tr>\n",
       "      <th>398</th>\n",
       "      <td>Nokia 110 Dual SIM Feature Phone, 1.77 inch QQ...</td>\n",
       "    </tr>\n",
       "    <tr>\n",
       "      <th>399</th>\n",
       "      <td>Nokia 150 Classic Mobile Phone (2020) - PTA Ap...</td>\n",
       "    </tr>\n",
       "  </tbody>\n",
       "</table>\n",
       "<p>400 rows × 1 columns</p>\n",
       "</div>"
      ],
      "text/plain": [
       "                                                  Name\n",
       "0    Samsung Galaxy A32 - Display 6.4 - Multi Quad ...\n",
       "1      Samsung Galaxy A23 6.6 Inches Display 6GB 128GB\n",
       "2    Nokia 105-2019-Local Mobile-Made In Vietnam Fi...\n",
       "3                        itel Muzik 400 2.4 ich screen\n",
       "4    Nokia 106 - 1.8\" Display - Dual Sim (Pack of 2...\n",
       "..                                                 ...\n",
       "395  Itel Power 700 Core 2.8 Inch Dual Sim 1 Year W...\n",
       "396  Nokia 105 2019 1.7 Inch Display 2000 Contact 5...\n",
       "397  Nokia 110 4G - 1.8 Inches - 1020 mAh Battery -...\n",
       "398  Nokia 110 Dual SIM Feature Phone, 1.77 inch QQ...\n",
       "399  Nokia 150 Classic Mobile Phone (2020) - PTA Ap...\n",
       "\n",
       "[400 rows x 1 columns]"
      ]
     },
     "execution_count": 38,
     "metadata": {},
     "output_type": "execute_result"
    }
   ],
   "source": [
    "df = pd.DataFrame({'Name':names})\n",
    "df"
   ]
  },
  {
   "cell_type": "markdown",
   "metadata": {},
   "source": [
    "## Open Product Pages and Return Back"
   ]
  },
  {
   "cell_type": "markdown",
   "metadata": {},
   "source": [
    "(OLD CODE THAT WON'T WORK BCZ OF THE CHANGE IN CLASSES OF DARAZ)"
   ]
  },
  {
   "cell_type": "markdown",
   "metadata": {},
   "source": [
    "Scrape 80 items for a keyword search e.g., 'mobile covers'<br/>Note: Must use \"click()\" function of webElement, URL changing for pages is not allowed. The code must be generic and should work for every keyword, with proper checks in place. Bonus for also scraping country and Daraz Mall availability."
   ]
  },
  {
   "cell_type": "code",
   "execution_count": null,
   "metadata": {},
   "outputs": [],
   "source": [
    "query = 'mobile covers'"
   ]
  },
  {
   "cell_type": "code",
   "execution_count": null,
   "metadata": {},
   "outputs": [],
   "source": [
    "# query = query.replace(' ','%20')\n",
    "# url = f'https://www.daraz.pk/catalog/?from=input&q={query}'\n",
    "# print(url)\n",
    "\n",
    "# options = Options()\n",
    "\n",
    "# driver = webdriver.Chrome(ChromeDriverManager().install(), options=options)\n",
    "\n",
    "# names = []\n",
    "# reviews = []\n",
    "# stars = []\n",
    "# prices = []\n",
    "# countries = []\n",
    "\n",
    "# driver.get(url)\n",
    "# i=0\n",
    "# xp=0\n",
    "# k=0\n",
    "# n=1\n",
    "# while(i<80):\n",
    "#     for product in driver.find_elements_by_class_name('c2prKC'):\n",
    "#         if k != xp:\n",
    "#             k+=1\n",
    "#             continue\n",
    "           \n",
    "#         k=0\n",
    "#         #nameee\n",
    "#         try:\n",
    "#             name = product.find_element_by_class_name('c16H9d').text\n",
    "#         except ValueError:\n",
    "#             name = 'Not Available'\n",
    "#         names.append(name)\n",
    "\n",
    "#         #priceee\n",
    "#         try:\n",
    "#             price = int(product.find_element_by_class_name('c13VH6').text[3:].replace(',',''))\n",
    "#         except ValueError:\n",
    "#             price = 0\n",
    "#         prices.append(price)\n",
    "#         #reviews count\n",
    "#         try:\n",
    "#             rev = int(product.find_element_by_class_name('c3XbGJ').text[1:-1])\n",
    "#         except ValueError:\n",
    "#             rev = 0\n",
    "#         reviews.append(rev)\n",
    "#         #picking up the count\n",
    "#         xp+=1\n",
    "#         #//*[@id=\"root\"]/div/div[2]/div[1]/div/div[1]/div[2]/div[5]/div/div\n",
    "        \n",
    "        \n",
    "#         driver.find_element_by_xpath(f'//*[@id=\"root\"]/div/div[2]/div[1]/div/div[1]/div[2]/div[{xp}]/div/div').click()\n",
    "#         time.sleep(5)\n",
    "#         i+=1\n",
    "#         #for removing pop up\n",
    "#         try:\n",
    "#             pop = driver.find_element_by_xpath('/html/body/div[6]/div/div[2]/div/span').click()\n",
    "#             time.sleep(5)\n",
    "#         except:\n",
    "#             pop = True\n",
    "            \n",
    "#         for p in driver.find_elements_by_class_name('pdp-mod-review'):   \n",
    "#             for sta in p.find_elements_by_class_name('mod-rating'):\n",
    "#                 try:\n",
    "#                     rat = sta.find_element_by_class_name('score-average').text\n",
    "#                 except ValueError:\n",
    "#                     rat = '0'\n",
    "#         stars.append(rat)\n",
    "#         driver.back()\n",
    "#         break\n",
    "#     if(i>=79):\n",
    "#         continue\n",
    "#     if(i>n*39):\n",
    "#         driver.find_element_by_xpath('//*[@id=\"root\"]/div/div[2]/div[1]/div/div[1]/div[3]/div/ul/li[9]/a').click()\n",
    "#         xp=0\n",
    "#         n+=1\n",
    "#     else:\n",
    "#         continue\n",
    "# driver.close()\n"
   ]
  },
  {
   "cell_type": "code",
   "execution_count": 1,
   "metadata": {},
   "outputs": [],
   "source": [
    "# Scrap twitter \n",
    "import time\n",
    "from selenium import webdriver\n",
    "from webdriver_manager.chrome import ChromeDriverManager\n",
    "from selenium.webdriver.chrome.options import Options\n",
    "from selenium.webdriver.common.keys import Keys\n",
    "from selenium.common.exceptions import NoSuchElementException\n",
    "from selenium.webdriver.common.by import By\n",
    "from selenium.webdriver.support.ui import WebDriverWait\n",
    "from selenium.webdriver.support import expected_conditions as EC\n",
    "import pandas as pd\n"
   ]
  },
  {
   "cell_type": "code",
   "execution_count": 16,
   "metadata": {},
   "outputs": [
    {
     "name": "stderr",
     "output_type": "stream",
     "text": [
      "\n",
      "\n",
      "====== WebDriver manager ======\n",
      "Current google-chrome version is 107.0.5304\n",
      "Get LATEST chromedriver version for 107.0.5304 google-chrome\n",
      "Driver [C:\\Users\\Latitude\\.wdm\\drivers\\chromedriver\\win32\\107.0.5304.62\\chromedriver.exe] found in cache\n",
      "C:\\Users\\Latitude\\AppData\\Local\\Temp\\ipykernel_11604\\440387857.py:6: DeprecationWarning: executable_path has been deprecated, please pass in a Service object\n",
      "  driver = webdriver.Chrome(ChromeDriverManager().install(), options=options)\n"
     ]
    }
   ],
   "source": [
    "#scrap twitter\n",
    "query = 'mobile covers'\n",
    "\n",
    "options = Options()\n",
    "# options.add_argument(\"--headless\")\n",
    "driver = webdriver.Chrome(ChromeDriverManager().install(), options=options)\n",
    "\n",
    "names = []\n",
    "tweets = []\n",
    "\n",
    "driver.get(f'https://twitter.com/search?q={query}&src=typed_query')\n",
    "\n",
    "time.sleep(5)\n",
    "# click login\n",
    "driver.find_element(By.XPATH, \"/html/body/div[1]/div/div/div[1]/div/div[1]/div/div/div/div/div/div/div/div[1]\").click()\n",
    "\n"
   ]
  },
  {
   "cell_type": "code",
   "execution_count": 17,
   "metadata": {},
   "outputs": [],
   "source": [
    "driver.close()"
   ]
  },
  {
   "cell_type": "code",
   "execution_count": null,
   "metadata": {},
   "outputs": [],
   "source": []
  },
  {
   "cell_type": "code",
   "execution_count": null,
   "metadata": {},
   "outputs": [],
   "source": []
  },
  {
   "cell_type": "code",
   "execution_count": null,
   "metadata": {},
   "outputs": [],
   "source": []
  }
 ],
 "metadata": {
  "kernelspec": {
   "display_name": "Python 3.10.2 64-bit",
   "language": "python",
   "name": "python3"
  },
  "language_info": {
   "codemirror_mode": {
    "name": "ipython",
    "version": 3
   },
   "file_extension": ".py",
   "mimetype": "text/x-python",
   "name": "python",
   "nbconvert_exporter": "python",
   "pygments_lexer": "ipython3",
   "version": "3.10.2"
  },
  "orig_nbformat": 4,
  "vscode": {
   "interpreter": {
    "hash": "120ff4f5eb4bc0815f17d9e4eacd16341451ac98d34539de7ecc14bd9f51a506"
   }
  }
 },
 "nbformat": 4,
 "nbformat_minor": 2
}
